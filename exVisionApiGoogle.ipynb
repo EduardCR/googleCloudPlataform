
# coding: utf-8

# In[1]:


APIKEY="YOURAPIKEY"  # Replace with your API key


# In[2]:


get_ipython().system('pip install --upgrade google-api-python-client')


# In[4]:


#this code get a image from google storage and process for get the emotion of face the people in the image 
from google.cloud import vision
client = vision.ImageAnnotatorClient()

response = client.face_detection({
   'source': {'image_uri': 'gs://latin/03mckay-imaging_family-portrait.jpg'},
 })

likelihood_name = ('UNKNOWN', 'VERY_UNLIKELY', 'UNLIKELY', 'POSSIBLE',
                       'LIKELY', 'VERY_LIKELY')

faces = response.face_annotations

print('Faces:')

for face in faces:
  print('anger: {}'.format(likelihood_name[face.anger_likelihood]))
  print('joy: {}'.format(likelihood_name[face.joy_likelihood]))
  print('surprise: {}'.format(likelihood_name[face.surprise_likelihood]))
  print("-------------------")

